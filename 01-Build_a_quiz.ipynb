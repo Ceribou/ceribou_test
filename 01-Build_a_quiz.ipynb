{
 "cells": [
  {
   "cell_type": "markdown",
   "metadata": {
    "colab_type": "text",
    "id": "FY347VxWs_bJ"
   },
   "source": [
    "# Build a quizz\n",
    "\n",
    "---\n",
    "\n",
    "\n"
   ]
  },
  {
   "cell_type": "markdown",
   "metadata": {
    "colab_type": "text",
    "id": "qJizpyqVwYnF"
   },
   "source": [
    "Let's tackle our first project together. Find a partner and start coding a quiz together! Your program should: \n",
    "\n",
    "1. Ask a question to a user via the console \n",
    "2. Verify whether the answer is correct or not \n",
    "3. If the answer is correct, you should print out: `Good job! This is the right answer`\n",
    "\n",
    "* Else, it should print out : `Too bad! that is not the correct answer`\n",
    "\n",
    "4. Ask three questions following this model.\n",
    "\n"
   ]
  },
  {
   "cell_type": "code",
   "execution_count": 2,
   "metadata": {},
   "outputs": [],
   "source": [
    "quiz = {\n",
    "    \"Capitale de France ?\": \"Paris\",\n",
    "    \"Capitale de UK ?\": \"Londres\",\n",
    "    \"Capitale d'Irlande ?\": \"Dublin\"\n",
    "}"
   ]
  },
  {
   "cell_type": "code",
   "execution_count": 1,
   "metadata": {},
   "outputs": [
    {
     "ename": "NameError",
     "evalue": "name 'mistakes' is not defined",
     "output_type": "error",
     "traceback": [
      "\u001b[1;31m---------------------------------------------------------------------------\u001b[0m",
      "\u001b[1;31mNameError\u001b[0m                                 Traceback (most recent call last)",
      "Cell \u001b[1;32mIn[1], line 1\u001b[0m\n\u001b[1;32m----> 1\u001b[0m mistakes\n",
      "\u001b[1;31mNameError\u001b[0m: name 'mistakes' is not defined"
     ]
    }
   ],
   "source": [
    "mistakes"
   ]
  },
  {
   "cell_type": "code",
   "execution_count": 4,
   "metadata": {},
   "outputs": [
    {
     "name": "stdout",
     "output_type": "stream",
     "text": [
      "Here you have our quiz\n",
      "You have 3 lives\n",
      "\n",
      "Your answer is: Paris\n",
      "Good job! This is the right answer\n",
      "\n",
      "Your answer is: londres\n",
      "Too bad! That is not the correct answer\n",
      "You still have 2 lives left\n",
      "\n",
      "Your answer is: Londres\n",
      "Good job! This is the right answer\n",
      "\n",
      "Your answer is: Dublin\n",
      "Good job! This is the right answer\n",
      "\n",
      "Well done! You completed the quiz!\n"
     ]
    }
   ],
   "source": [
    "mistakes = 0\n",
    "max_mistakes = 3\n",
    "\n",
    "print(\"Here you have our quiz\")\n",
    "print(\"You have 3 lives\")\n",
    "print()\n",
    "\n",
    "for question, answer in quiz.items():\n",
    "    user_answer = input(question)\n",
    "    \n",
    "    while user_answer != answer and mistakes < 2:\n",
    "        mistakes += 1\n",
    "        print(\"Your answer is:\", user_answer)\n",
    "        print(\"Too bad! That is not the correct answer\")\n",
    "        print(\"You still have {} lives left\".format(max_mistakes - mistakes))\n",
    "        print()\n",
    "        user_answer = input(question)\n",
    "\n",
    "    if user_answer != answer and mistakes >= 2 :\n",
    "        mistakes += 1\n",
    "        print(\"Your answer is:\", user_answer)\n",
    "        print(\"Too bad! That is not the correct answer\")\n",
    "        print()\n",
    "        print('Oh no, you lost the quiz...')\n",
    "        break\n",
    "            \n",
    "    print(\"Your answer is:\", user_answer)\n",
    "    print(\"Good job! This is the right answer\")\n",
    "    print()\n",
    "\n",
    "if mistakes <3:\n",
    "    print(\"Well done! You completed the quiz!\")"
   ]
  },
  {
   "cell_type": "markdown",
   "metadata": {
    "colab_type": "text",
    "id": "sLMbYgaOyxiX"
   },
   "source": [
    "There's a problem with our quizz : if the user has not given the right answer, the program goes to next question. We would rather like to ask again the same question if the answer was wrong.\n",
    "\n",
    "5. Using a `while` loop, make sure that the same question will be asked again when the answer was wrong\n",
    "\n",
    "6. Rewrite your code such that this behaviour is applied to all questions."
   ]
  },
  {
   "cell_type": "markdown",
   "metadata": {
    "colab_type": "text",
    "id": "nh4voWn8x3dM"
   },
   "source": [
    "Now, we would like to tackle a last problem : we want to allow only 3 wrong answers (among all questions).\n",
    "\n",
    "7. Improve your code : if the user makes 3 wrong answers, the program should stop and print (\"Too bad, you lost the game !\")\n"
   ]
  },
  {
   "cell_type": "code",
   "execution_count": 3,
   "metadata": {
    "colab": {
     "base_uri": "https://localhost:8080/",
     "height": 170
    },
    "colab_type": "code",
    "id": "adKPQe1Hsi2g",
    "outputId": "45d36fc8-90ae-4f00-b73a-73b1e6e57e6e",
    "tags": []
   },
   "outputs": [
    {
     "name": "stdout",
     "output_type": "stream",
     "text": [
      "Welcome to our quizz!\n",
      "You have 3 lives.\n",
      "\n",
      "Question 1:\n",
      "Your answer : 6\n",
      "Sorry, you have 2 chances left\n",
      "Your answer : 2\n",
      "Question 2:\n",
      "Your answer : 1980\n",
      "Sorry, you have 1 chances left\n",
      "Your answer : 1976\n",
      "Question 3:\n",
      "Your answer : steve jobs\n",
      "Sorry, you have 0 chances left\n",
      "Oh no, you lost the quiz...\n"
     ]
    }
   ],
   "source": []
  }
 ],
 "metadata": {
  "colab": {
   "name": "Construire un quiz - SOLUTIONS S1-1A.ipynb",
   "provenance": []
  },
  "kernelspec": {
   "display_name": "Python 3.7.6 64-bit (conda)",
   "metadata": {
    "interpreter": {
     "hash": "81922e58b9f0765dc46a2f2aae6246790c134fff12037142dafdcc4c4ca17485"
    }
   },
   "name": "python3"
  },
  "language_info": {
   "codemirror_mode": {
    "name": "ipython",
    "version": 3
   },
   "file_extension": ".py",
   "mimetype": "text/x-python",
   "name": "python",
   "nbconvert_exporter": "python",
   "pygments_lexer": "ipython3",
   "version": "3.11.5"
  }
 },
 "nbformat": 4,
 "nbformat_minor": 1
}
